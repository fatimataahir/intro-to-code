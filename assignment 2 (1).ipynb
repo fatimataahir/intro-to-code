{
 "cells": [
  {
   "cell_type": "markdown",
   "id": "f289b416",
   "metadata": {},
   "source": [
    "# Task 1: Simple Guessing Game\n",
    "--- Welcome to the Guessing Game! ---"
   ]
  },
  {
   "cell_type": "code",
   "execution_count": 1,
   "id": "e8f0498a",
   "metadata": {},
   "outputs": [
    {
     "name": "stdout",
     "output_type": "stream",
     "text": [
      "Guess the secret number between 1 and 50: f\n",
      "Invalid input! Please enter a valid number.\n",
      "Guess the secret number between 1 and 50: 33\n",
      "Try again! Your guess is too high. You have 4 attempts left.\n",
      "Guess the secret number between 1 and 50: 22\n",
      "Guess the secret number between 1 and 50: \n",
      "Try again! Your guess is too low. You have 3 attempts left.\n",
      "Invalid input! Please enter a valid number.\n",
      "Guess the secret number between 1 and 50: 21\n",
      "Try again! Your guess is too low. You have 2 attempts left.\n",
      "Guess the secret number between 1 and 50: 25\n",
      "Try again! Your guess is too low. You have 1 attempts left.\n",
      "Guess the secret number between 1 and 50: 31\n",
      "Game Over! The secret number was 32. Better luck next time!\n"
     ]
    }
   ],
   "source": [
    "from random import randint\n",
    "secret_number= randint (1,50)\n",
    "attempt=1\n",
    "while attempt <= 5 :\n",
    "    answer=input(\"Guess the secret number between 1 and 50: \")\n",
    "    try :\n",
    "        guess = int (answer)\n",
    "        if guess == secret_number :\n",
    "            print(f\"Congratulations! You guessed the secret number {secret_number} correctly!\")\n",
    "            break\n",
    "        elif attempt ==5 :\n",
    "            print(f\"Game Over! The secret number was {secret_number}. Better luck next time!\")\n",
    "        elif guess > secret_number :\n",
    "            print(f\"Try again! Your guess is too high. You have {5 - attempt} attempts left.\")\n",
    "        else :\n",
    "             print(f\"Try again! Your guess is too low. You have {5 - attempt} attempts left.\")\n",
    "        attempt +=1\n",
    "    except ValueError:\n",
    "        print(\"Invalid input! Please enter a valid number.\")\n",
    "        continue\n"
   ]
  },
  {
   "cell_type": "markdown",
   "id": "dc056b33",
   "metadata": {},
   "source": [
    "# Task 2\n",
    "--- num_vowels,hours_to_min,return, prints ---"
   ]
  },
  {
   "cell_type": "code",
   "execution_count": 2,
   "id": "584689fe",
   "metadata": {},
   "outputs": [
    {
     "name": "stdout",
     "output_type": "stream",
     "text": [
      "The number of vowels in the string is: None\n"
     ]
    }
   ],
   "source": [
    "#a\n",
    "def num_vowel(input_string):\n",
    "    vowels=\"aeiouAEIOU\"\n",
    "    count=0\n",
    "input_string = \"Learning Python is fun and engaging.\"\n",
    "result = num_vowel(input_string)\n",
    "print(f\"The number of vowels in the string is: {result}\")"
   ]
  },
  {
   "cell_type": "code",
   "execution_count": 3,
   "id": "38213894",
   "metadata": {},
   "outputs": [
    {
     "name": "stdout",
     "output_type": "stream",
     "text": [
      "2.5 hours is equal to 150.0 minutes.\n"
     ]
    }
   ],
   "source": [
    "#b\n",
    "def hours_to_min(hours):\n",
    "    minutes = hours * 60\n",
    "    return minutes\n",
    "hours_input = 2.5\n",
    "result = hours_to_min(hours_input)\n",
    "print(f\"{hours_input} hours is equal to {result} minutes.\")\n"
   ]
  },
  {
   "cell_type": "code",
   "execution_count": 9,
   "id": "4cfc8e5b",
   "metadata": {},
   "outputs": [
    {
     "name": "stdout",
     "output_type": "stream",
     "text": [
      "1 x 9 = 9\n",
      "2 x 9 = 18\n",
      "3 x 9 = 27\n",
      "4 x 9 = 36\n",
      "5 x 9 = 45\n",
      "6 x 9 = 54\n",
      "7 x 9 = 63\n",
      "8 x 9 = 72\n",
      "9 x 9 = 81\n",
      "10 x 9 = 90\n",
      "11 x 9 = 99\n",
      "12 x 9 = 108\n"
     ]
    }
   ],
   "source": [
    "#c\n",
    "def print_multinumber_table(number):\n",
    "    for i in range(1, 13):\n",
    "        result = number * i\n",
    "        print(f\"{i} x {number} = {result}\")\n",
    "        \n",
    "print_multinumber_table (9)"
   ]
  },
  {
   "cell_type": "code",
   "execution_count": 15,
   "id": "7e6172c9",
   "metadata": {},
   "outputs": [
    {
     "name": "stdout",
     "output_type": "stream",
     "text": [
      "True\n",
      "False\n"
     ]
    }
   ],
   "source": [
    "#d\n",
    "def eligibility (age , GPA):\n",
    "    if age >= 18 and GPA >= 3.0 :\n",
    "        return True \n",
    "    else :\n",
    "        return False\n",
    "E1=eligibility(30,3.2)\n",
    "E2=eligibility(GPA =2.9, age = 40)\n",
    "print(E1)\n",
    "print(E2)"
   ]
  },
  {
   "cell_type": "code",
   "execution_count": null,
   "id": "82e4acfc",
   "metadata": {},
   "outputs": [],
   "source": []
  }
 ],
 "metadata": {
  "kernelspec": {
   "display_name": "Python 3 (ipykernel)",
   "language": "python",
   "name": "python3"
  },
  "language_info": {
   "codemirror_mode": {
    "name": "ipython",
    "version": 3
   },
   "file_extension": ".py",
   "mimetype": "text/x-python",
   "name": "python",
   "nbconvert_exporter": "python",
   "pygments_lexer": "ipython3",
   "version": "3.11.5"
  }
 },
 "nbformat": 4,
 "nbformat_minor": 5
}
